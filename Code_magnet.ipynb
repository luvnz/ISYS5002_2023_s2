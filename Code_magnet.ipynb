{
  "nbformat": 4,
  "nbformat_minor": 0,
  "metadata": {
    "colab": {
      "provenance": [],
      "authorship_tag": "ABX9TyOiaEIZ9zHcU277S9JFgWBL",
      "include_colab_link": true
    },
    "kernelspec": {
      "name": "python3",
      "display_name": "Python 3"
    },
    "language_info": {
      "name": "python"
    }
  },
  "cells": [
    {
      "cell_type": "markdown",
      "metadata": {
        "id": "view-in-github",
        "colab_type": "text"
      },
      "source": [
        "<a href=\"https://colab.research.google.com/github/luvnz/ISYS5002_2023_s2/blob/main/code_magnet.ipynb\" target=\"_parent\"><img src=\"https://colab.research.google.com/assets/colab-badge.svg\" alt=\"Open In Colab\"/></a>"
      ]
    },
    {
      "cell_type": "markdown",
      "source": [
        "**Code Magnets**"
      ],
      "metadata": {
        "id": "N_bd9BxooglA"
      }
    },
    {
      "cell_type": "markdown",
      "source": [
        "# **Step1:** Heat saute pan"
      ],
      "metadata": {
        "id": "2su2dcatotvn"
      }
    },
    {
      "cell_type": "code",
      "source": [
        "print(\"Step 1: Heat saute pan\")"
      ],
      "metadata": {
        "colab": {
          "base_uri": "https://localhost:8080/"
        },
        "id": "SMPGIKklbfPG",
        "outputId": "21fb8ae8-b47f-409e-f7c8-5d1a2d3eca1c"
      },
      "execution_count": null,
      "outputs": [
        {
          "output_type": "stream",
          "name": "stdout",
          "text": [
            "Step 1: Heat saute pan\n"
          ]
        }
      ]
    },
    {
      "cell_type": "markdown",
      "source": [
        "# **Step 2:** Crack three eggs into bowl"
      ],
      "metadata": {
        "id": "sHx-HvMvMovE"
      }
    },
    {
      "cell_type": "code",
      "source": [
        " print(\"Step 2: Crack three eggs into bowl\")"
      ],
      "metadata": {
        "colab": {
          "base_uri": "https://localhost:8080/"
        },
        "id": "GNd-4Z2Za5xf",
        "outputId": "adddb61c-34ea-4bdf-c838-706e085d03ba"
      },
      "execution_count": null,
      "outputs": [
        {
          "output_type": "stream",
          "name": "stdout",
          "text": [
            "Step 2: Crack three eggs into bowl\n"
          ]
        }
      ]
    },
    {
      "cell_type": "markdown",
      "source": [
        "# **Step 3:** Whip eggs"
      ],
      "metadata": {
        "id": "tLzqMiFYZiAG"
      }
    },
    {
      "cell_type": "code",
      "source": [
        "print(\"Step 3: Whip eggs\")"
      ],
      "metadata": {
        "colab": {
          "base_uri": "https://localhost:8080/"
        },
        "id": "S0zmPBizbk7l",
        "outputId": "d542d1b6-1228-4d3b-ce23-92e5d37e2cc8"
      },
      "execution_count": null,
      "outputs": [
        {
          "output_type": "stream",
          "name": "stdout",
          "text": [
            "Step 3: Whip eggs\n"
          ]
        }
      ]
    },
    {
      "cell_type": "markdown",
      "source": [
        "# **Step 4:** While eggs aren’t fully mixed"
      ],
      "metadata": {
        "id": "SU9sUSzFZiCN"
      }
    },
    {
      "cell_type": "code",
      "source": [
        "print(\"Step 4: While eggs aren't fully mixed\")"
      ],
      "metadata": {
        "colab": {
          "base_uri": "https://localhost:8080/"
        },
        "id": "yeD2zmaqbrxa",
        "outputId": "a8d1afe5-da41-4919-89e9-d23b7869ec43"
      },
      "execution_count": null,
      "outputs": [
        {
          "output_type": "stream",
          "name": "stdout",
          "text": [
            "Step 4: While eggs aren't fully mixed\n"
          ]
        }
      ]
    },
    {
      "cell_type": "markdown",
      "source": [
        "# **Step 5:** Transfer eggs to pan"
      ],
      "metadata": {
        "id": "SkTFHCmaZtdD"
      }
    },
    {
      "cell_type": "code",
      "source": [
        "print(\"Step 5: Transfer eggs to pan\")"
      ],
      "metadata": {
        "colab": {
          "base_uri": "https://localhost:8080/"
        },
        "id": "J59J9sgkbxs_",
        "outputId": "f0116b4a-80a6-4ac5-805e-cd685967b8a6"
      },
      "execution_count": null,
      "outputs": [
        {
          "output_type": "stream",
          "name": "stdout",
          "text": [
            "Step 5: Transfer eggs to pan\n"
          ]
        }
      ]
    },
    {
      "cell_type": "markdown",
      "source": [
        "# **Step 6:** Stir eggs"
      ],
      "metadata": {
        "id": "-Lve64KyZtfU"
      }
    },
    {
      "cell_type": "code",
      "source": [
        "print(\"Step 6: Stir eggs\")"
      ],
      "metadata": {
        "colab": {
          "base_uri": "https://localhost:8080/"
        },
        "id": "BrOWhfGwb9F1",
        "outputId": "32b93a97-8920-4846-e9ec-4c7041b4b3d9"
      },
      "execution_count": null,
      "outputs": [
        {
          "output_type": "stream",
          "name": "stdout",
          "text": [
            "Step 6: Stir eggs\n"
          ]
        }
      ]
    },
    {
      "cell_type": "markdown",
      "source": [
        "# **Step 7:** Remove pan from heat"
      ],
      "metadata": {
        "id": "ZLaxwDPWZ7io"
      }
    },
    {
      "cell_type": "code",
      "source": [
        "print(\"Step 7: While eggs aren't fully cooked\")"
      ],
      "metadata": {
        "colab": {
          "base_uri": "https://localhost:8080/"
        },
        "id": "ThX9Ixvqb9eG",
        "outputId": "88610518-20aa-4d4c-ad70-8da10987a33a"
      },
      "execution_count": null,
      "outputs": [
        {
          "output_type": "stream",
          "name": "stdout",
          "text": [
            "Step 7: While eggs aren't fully cooked\n"
          ]
        }
      ]
    },
    {
      "cell_type": "markdown",
      "source": [
        "# **Step 8:** While eggs aren’t fully cooked"
      ],
      "metadata": {
        "id": "8Ah7HsA2Z7nq"
      }
    },
    {
      "cell_type": "code",
      "source": [
        "print(\"Step 8: If the customer ordered cheese\")"
      ],
      "metadata": {
        "colab": {
          "base_uri": "https://localhost:8080/"
        },
        "id": "hPa8HTC5cBKI",
        "outputId": "f93c755f-44b3-4220-f7bc-659a30ad3af9"
      },
      "execution_count": null,
      "outputs": [
        {
          "output_type": "stream",
          "name": "stdout",
          "text": [
            "Step 8: If the customer ordered cheese\n"
          ]
        }
      ]
    },
    {
      "cell_type": "markdown",
      "source": [
        "# **Step 9:** Add cheese on top"
      ],
      "metadata": {
        "id": "9aT0q-LfZ7qP"
      }
    },
    {
      "cell_type": "code",
      "source": [
        "print(\"Step 9: Add cheese on top\")"
      ],
      "metadata": {
        "id": "3Oih96WDcFEh"
      },
      "execution_count": null,
      "outputs": []
    },
    {
      "cell_type": "markdown",
      "source": [
        "# **Step 10:** Remove pan from heat"
      ],
      "metadata": {
        "id": "Lmf2QhInZ7sz"
      }
    },
    {
      "cell_type": "code",
      "source": [
        "print(\"Step 10: Remove pan from heat\")"
      ],
      "metadata": {
        "colab": {
          "base_uri": "https://localhost:8080/"
        },
        "id": "0ZpWTBLvcFce",
        "outputId": "2a54c82e-e5af-4cb6-9683-a6632bfd6106"
      },
      "execution_count": null,
      "outputs": [
        {
          "output_type": "stream",
          "name": "stdout",
          "text": [
            "Step 10: Remove pan from heat\n"
          ]
        }
      ]
    },
    {
      "cell_type": "markdown",
      "source": [
        "# **Step 11:** Transfer eggs to plate"
      ],
      "metadata": {
        "id": "-KFUwnNfapru"
      }
    },
    {
      "cell_type": "code",
      "source": [
        "print(\"Step 11: Transfer omelet to plate\")"
      ],
      "metadata": {
        "colab": {
          "base_uri": "https://localhost:8080/"
        },
        "id": "TV0AmAqscFsv",
        "outputId": "2faf5d2b-8c63-4fbb-ed38-3dcff231d344"
      },
      "execution_count": null,
      "outputs": [
        {
          "output_type": "stream",
          "name": "stdout",
          "text": [
            "Step 11: Transfer omelet to plate\n"
          ]
        }
      ]
    },
    {
      "cell_type": "markdown",
      "source": [
        "# **Step 12:** Serve"
      ],
      "metadata": {
        "id": "EsJsf_A8apwU"
      }
    },
    {
      "cell_type": "code",
      "source": [
        "print(\"Step 12: Serve\")"
      ],
      "metadata": {
        "colab": {
          "base_uri": "https://localhost:8080/"
        },
        "id": "oBqwpiT-cGaZ",
        "outputId": "ee813f11-278f-4aec-92bc-f49576aad329"
      },
      "execution_count": null,
      "outputs": [
        {
          "output_type": "stream",
          "name": "stdout",
          "text": [
            "Step 12: Serve\n"
          ]
        }
      ]
    },
    {
      "cell_type": "markdown",
      "source": [
        "**No cheese**"
      ],
      "metadata": {
        "id": "YS9HipKER6lW"
      }
    },
    {
      "cell_type": "markdown",
      "source": [
        "# **Step 1: Heat saute pan**"
      ],
      "metadata": {
        "id": "FFVNWpJWSz8I"
      }
    },
    {
      "cell_type": "code",
      "source": [
        " print(\"Step 1: Heat saute pan\")"
      ],
      "metadata": {
        "colab": {
          "base_uri": "https://localhost:8080/"
        },
        "id": "ZOl8p7_kXj9O",
        "outputId": "1eb25c16-f5cb-4eff-92c7-6e8f5e8e133e"
      },
      "execution_count": null,
      "outputs": [
        {
          "output_type": "stream",
          "name": "stdout",
          "text": [
            "Step 1: Heat saute pan\n"
          ]
        }
      ]
    },
    {
      "cell_type": "markdown",
      "source": [
        "# **Step 2: Crack three eggs into bowl**"
      ],
      "metadata": {
        "id": "VyFVJbRnToTm"
      }
    },
    {
      "cell_type": "code",
      "source": [
        "print(\"Step 2: Crack three eggs into bowl\")"
      ],
      "metadata": {
        "colab": {
          "base_uri": "https://localhost:8080/"
        },
        "id": "jlCPdEmiXkWY",
        "outputId": "922d42c8-70f0-459a-b66f-261dcc6e3af8"
      },
      "execution_count": null,
      "outputs": [
        {
          "output_type": "stream",
          "name": "stdout",
          "text": [
            "Step 2: Crack three eggs into bowl\n"
          ]
        }
      ]
    },
    {
      "cell_type": "markdown",
      "source": [
        "# **Step 3: Whip eggs**"
      ],
      "metadata": {
        "id": "E3Wt4nPhTvUs"
      }
    },
    {
      "cell_type": "code",
      "source": [
        "print(\"Step 3: Whip eggs\")"
      ],
      "metadata": {
        "colab": {
          "base_uri": "https://localhost:8080/"
        },
        "id": "nAUt7E0jXk3N",
        "outputId": "5e6617b5-4a4f-44a9-a9a6-8cbb7b1624cc"
      },
      "execution_count": null,
      "outputs": [
        {
          "output_type": "stream",
          "name": "stdout",
          "text": [
            "Step 3: Whip eggs\n"
          ]
        }
      ]
    },
    {
      "cell_type": "markdown",
      "source": [
        "# **Step 4:while eggs aren’t fully mixed:**"
      ],
      "metadata": {
        "id": "f0fFQnWVTvkL"
      }
    },
    {
      "cell_type": "code",
      "source": [
        "print(\"Step 4: While eggs aren't fully mixed\")"
      ],
      "metadata": {
        "id": "rmuTc2-dXsnE"
      },
      "execution_count": null,
      "outputs": []
    },
    {
      "cell_type": "markdown",
      "source": [
        "# **Step 5:Transfer eggs to pan**"
      ],
      "metadata": {
        "id": "5DkHTgyzVgGS"
      }
    },
    {
      "cell_type": "code",
      "source": [
        "print(\"Step 5: Transfer eggs to pan\")"
      ],
      "metadata": {
        "id": "SDgl0sYpXs2H"
      },
      "execution_count": null,
      "outputs": []
    },
    {
      "cell_type": "markdown",
      "source": [
        "# **Step 6: Stir eggs**"
      ],
      "metadata": {
        "id": "ZH2Cfl1DVgiq"
      }
    },
    {
      "cell_type": "code",
      "source": [
        "print(\"Step 6: Stir eggs\")"
      ],
      "metadata": {
        "id": "e6Dqe_TBXtQj"
      },
      "execution_count": null,
      "outputs": []
    },
    {
      "cell_type": "markdown",
      "source": [
        "# **Step 7:While eggs aren’t fully cooked:**"
      ],
      "metadata": {
        "id": "UtbvUT_jWFtE"
      }
    },
    {
      "cell_type": "code",
      "source": [
        "print(\"Step 7: While eggs aren't fully cooked\")"
      ],
      "metadata": {
        "colab": {
          "base_uri": "https://localhost:8080/"
        },
        "id": "T5WzMPLuXtop",
        "outputId": "4dd40857-45f0-4460-9c13-146e3c3eae10"
      },
      "execution_count": null,
      "outputs": [
        {
          "output_type": "stream",
          "name": "stdout",
          "text": [
            "Step 7: While eggs aren't fully cooked\n"
          ]
        }
      ]
    },
    {
      "cell_type": "markdown",
      "source": [
        "# **Step 8: Remove pan from heat**"
      ],
      "metadata": {
        "id": "tCVM1ZkCWF5R"
      }
    },
    {
      "cell_type": "code",
      "source": [
        "print(\"Step 8: Remove pan from heat\")"
      ],
      "metadata": {
        "colab": {
          "base_uri": "https://localhost:8080/"
        },
        "id": "js1Ueyx_Xuux",
        "outputId": "49637d99-d99e-4724-86f1-007383983f28"
      },
      "execution_count": null,
      "outputs": [
        {
          "output_type": "stream",
          "name": "stdout",
          "text": [
            "Step 8: Remove pan from heat\n"
          ]
        }
      ]
    },
    {
      "cell_type": "markdown",
      "source": [
        "# **Step 9:Transfer eggs to plate**"
      ],
      "metadata": {
        "id": "oVFjFjUBWlqj"
      }
    },
    {
      "cell_type": "code",
      "source": [
        "print(\"Step 9: Transfer omelet to plate\")"
      ],
      "metadata": {
        "colab": {
          "base_uri": "https://localhost:8080/"
        },
        "id": "jsD8D53WXvQK",
        "outputId": "924a307c-3102-414d-c566-71472cd0f9b0"
      },
      "execution_count": null,
      "outputs": [
        {
          "output_type": "stream",
          "name": "stdout",
          "text": [
            "Step 9: Transfer omelet to plate\n"
          ]
        }
      ]
    },
    {
      "cell_type": "markdown",
      "source": [
        "# **Step 10: Serve**"
      ],
      "metadata": {
        "id": "YN5Uvon9Wl6x"
      }
    },
    {
      "cell_type": "code",
      "source": [
        "print(\"Step 10: Serve\")"
      ],
      "metadata": {
        "colab": {
          "base_uri": "https://localhost:8080/"
        },
        "id": "cib8spXEXvoM",
        "outputId": "8e6d8145-40d6-4bb1-b6b4-aeb197334330"
      },
      "execution_count": null,
      "outputs": [
        {
          "output_type": "stream",
          "name": "stdout",
          "text": [
            "Step 10: Serve\n"
          ]
        }
      ]
    }
  ]
}
