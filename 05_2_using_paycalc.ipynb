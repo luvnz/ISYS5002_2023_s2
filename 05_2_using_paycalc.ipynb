{
  "nbformat": 4,
  "nbformat_minor": 0,
  "metadata": {
    "colab": {
      "provenance": [],
      "include_colab_link": true
    },
    "kernelspec": {
      "name": "python3",
      "display_name": "Python 3"
    },
    "language_info": {
      "name": "python"
    }
  },
  "cells": [
    {
      "cell_type": "markdown",
      "metadata": {
        "id": "view-in-github",
        "colab_type": "text"
      },
      "source": [
        "<a href=\"https://colab.research.google.com/github/luvnz/ISYS5002_2023_s2/blob/main/05_2_using_paycalc.ipynb\" target=\"_parent\"><img src=\"https://colab.research.google.com/assets/colab-badge.svg\" alt=\"Open In Colab\"/></a>"
      ]
    },
    {
      "cell_type": "markdown",
      "source": [
        "## import paycalc module"
      ],
      "metadata": {
        "id": "psgn2zwBTZkM"
      }
    },
    {
      "cell_type": "code",
      "source": [
        "import paycalc as pay"
      ],
      "metadata": {
        "id": "1iSGQfwlQL45",
        "colab": {
          "base_uri": "https://localhost:8080/"
        },
        "outputId": "3ebccfc7-300e-47a6-e0a7-696a0dd3a547"
      },
      "execution_count": null,
      "outputs": [
        {
          "output_type": "stream",
          "name": "stdout",
          "text": [
            "Help on method choice in module random:\n",
            "\n",
            "choice(seq) method of random.Random instance\n",
            "    Choose a random element from a non-empty sequence.\n",
            "\n"
          ]
        }
      ]
    },
    {
      "cell_type": "markdown",
      "source": [
        "## call the relevant functions from the `paycalc` module to\n",
        "* get user input\n",
        "* calculate the pay\n",
        "* print the payslip"
      ],
      "metadata": {
        "id": "Mq_ihQNxTfX1"
      }
    },
    {
      "cell_type": "code",
      "source": [
        "pay.user_input()"
      ],
      "metadata": {
        "id": "l-PmDv0fRvQC",
        "colab": {
          "base_uri": "https://localhost:8080/"
        },
        "outputId": "58cca0f7-38d0-426d-ba6f-0bb8ceb8b8bc"
      },
      "execution_count": 19,
      "outputs": [
        {
          "name": "stdout",
          "output_type": "stream",
          "text": [
            "Please enter name: weizhe\n",
            "Please enter salary: 2000\n",
            "Please enter sales: 10000\n",
            "Please enter commission rate: 2\n"
          ]
        },
        {
          "output_type": "execute_result",
          "data": {
            "text/plain": [
              "('weizhe', 2000, 10000, 2.0)"
            ]
          },
          "metadata": {},
          "execution_count": 19
        }
      ]
    },
    {
      "cell_type": "code",
      "source": [
        "salary = 2000\n",
        "sales = 10000\n",
        "comm_rate = 2"
      ],
      "metadata": {
        "id": "7_QQcvf-4tfx"
      },
      "execution_count": 20,
      "outputs": []
    },
    {
      "cell_type": "code",
      "source": [
        "pay.calculate_pay(salary,sales,comm_rate)"
      ],
      "metadata": {
        "colab": {
          "base_uri": "https://localhost:8080/"
        },
        "id": "bPSYCyZx2Ae3",
        "outputId": "2581de3f-2819-4041-8147-68e41c4ed37f"
      },
      "execution_count": 22,
      "outputs": [
        {
          "output_type": "execute_result",
          "data": {
            "text/plain": [
              "(200.0, 0, 2200.0)"
            ]
          },
          "metadata": {},
          "execution_count": 22
        }
      ]
    },
    {
      "cell_type": "code",
      "source": [
        "pay.calculate_tax(2000)"
      ],
      "metadata": {
        "colab": {
          "base_uri": "https://localhost:8080/"
        },
        "id": "n0F7qdDh3UAW",
        "outputId": "3cc99803-1bb7-41a3-a2a6-bcc53247b051"
      },
      "execution_count": 14,
      "outputs": [
        {
          "output_type": "execute_result",
          "data": {
            "text/plain": [
              "0"
            ]
          },
          "metadata": {},
          "execution_count": 14
        }
      ]
    },
    {
      "cell_type": "code",
      "source": [
        "pay.print_payslip('weizhe', 2000, 200 , 0, 2200)"
      ],
      "metadata": {
        "colab": {
          "base_uri": "https://localhost:8080/"
        },
        "id": "qMs3MX6v3moA",
        "outputId": "48120970-3884-4578-c781-e42792100c5a"
      },
      "execution_count": 23,
      "outputs": [
        {
          "output_type": "stream",
          "name": "stdout",
          "text": [
            "\n",
            "=== Payslip of weizhe ===\n",
            "Salary:      2000 \n",
            "Commission: 200 \n",
            "Tax:             0 \n",
            "Total pay:     2200\n"
          ]
        }
      ]
    }
  ]
}