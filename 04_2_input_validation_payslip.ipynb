{
  "cells": [
    {
      "cell_type": "markdown",
      "metadata": {
        "id": "view-in-github",
        "colab_type": "text"
      },
      "source": [
        "<a href=\"https://colab.research.google.com/github/luvnz/ISYS5002_2023_s2/blob/main/04_2_input_validation_payslip.ipynb\" target=\"_parent\"><img src=\"https://colab.research.google.com/assets/colab-badge.svg\" alt=\"Open In Colab\"/></a>"
      ]
    },
    {
      "cell_type": "markdown",
      "metadata": {
        "id": "kF8ldRydTDPx"
      },
      "source": [
        "# Payslip\n",
        "\n",
        "A payslip is a document that shows their total wages earned for a set period.\n",
        "This might be from a salary, hourly wages or commission. Payslips are also know as ‘pay advice’.  Traditionally the payslip was a paper document attached. Today\n",
        "most organisations provide them electronically.\n",
        "\n",
        "## Task 0 - Import into GitHub\n",
        "First, import the notebook into Colab and save an initial copy to GitHub.\n",
        "\n",
        "## Task 1 - Start Simple\n",
        "\n",
        "Writing complete robust programs can take time.  Often the more we understand a problem the easier it is to implement the solution.   One approach is to implement the simplest version of a program and then slowly add functionality.\n",
        "\n",
        "This notebook aims to start simple and slowly build up the program.\n",
        "The approach we take below is one way to understand a problem, step 1 of our development process. Complex projects, often follow a similar idea\n",
        "where they implement a minimal program, and each week or month has intense periods where the team adds functionality.  These advanced methodologies are beyond the scope of an introductory programming course but by starting small and slowly adding functionality we do capture the essence of the process.\n",
        "\n"
      ]
    },
    {
      "cell_type": "markdown",
      "source": [
        "## Modify the *payslip* program to include handling for any exceptions or errors that may be raised"
      ],
      "metadata": {
        "id": "UCG4KxkJ-wBF"
      }
    },
    {
      "cell_type": "code",
      "execution_count": null,
      "metadata": {
        "id": "cJwgf8nZWDF6"
      },
      "outputs": [],
      "source": [
        "# FUNCTION: calculate_pay\n",
        "# create function to calculate pay\n",
        "\n",
        "def calculate_pay(salary, sales, comm):\n",
        "  # calculate the commision\n",
        "  commission = (comm/100) * sales\n",
        "\n",
        "  # calculate the tax\n",
        "  tax = (salary + commission) * 0.10\n",
        "\n",
        "  # calculate the pay\n",
        "  pay = salary + commission - tax\n",
        "\n",
        "  #print(commission, tax, pay)\n",
        "  return commission, tax, pay\n"
      ]
    },
    {
      "cell_type": "code",
      "source": [
        "# PUTTING IT ALL TOGETHER\n",
        "\n",
        "try:\n",
        "    # get user input - name\n",
        "    name = input(\"Please enter name: \")\n",
        "\n",
        "    # get user input for salary\n",
        "    salary = float(input(\"Please enter salary: \"))  # Using float for flexibility\n",
        "\n",
        "    # get user input for sales\n",
        "    sales = float(input(\"Please enter sales: \"))  # Using float for flexibility\n",
        "\n",
        "    # get user input for commission\n",
        "    comm_rate = float(input(\"Please enter commission rate: \"))\n",
        "\n",
        "    # pass the salary, sales & commission values to function calculate_pay\n",
        "    # receive/capture the return values from the function\n",
        "    comm_result, tax_result, pay_result = calculate_pay(salary, sales, comm_rate)\n",
        "\n",
        "    # print out the payslip nicely formatted\n",
        "    print(f'\\n=== Payslip of {name} ===')\n",
        "    print(f\"Salary: {salary:,.2f}\")\n",
        "    print(f\"Commission: {comm_result:,.2f}\")\n",
        "    print(f\"Tax: {tax_result:,.2f}\")\n",
        "    print(f\"Total pay: {pay_result:,.2f}\")\n",
        "\n",
        "except ValueError:\n",
        "    print(\"Invalid input. Please enter valid numeric values.\")"
      ],
      "metadata": {
        "id": "F3nS2M9vZQCQ"
      },
      "execution_count": null,
      "outputs": []
    }
  ],
  "metadata": {
    "colab": {
      "provenance": [],
      "include_colab_link": true
    },
    "kernelspec": {
      "display_name": "Python 3",
      "language": "python",
      "name": "python3"
    },
    "language_info": {
      "codemirror_mode": {
        "name": "ipython",
        "version": 3
      },
      "file_extension": ".py",
      "mimetype": "text/x-python",
      "name": "python",
      "nbconvert_exporter": "python",
      "pygments_lexer": "ipython3",
      "version": "3.8.8"
    }
  },
  "nbformat": 4,
  "nbformat_minor": 0
}