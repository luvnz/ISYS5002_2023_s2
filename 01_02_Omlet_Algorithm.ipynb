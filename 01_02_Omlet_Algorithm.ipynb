{
  "nbformat": 4,
  "nbformat_minor": 0,
  "metadata": {
    "colab": {
      "provenance": [],
      "authorship_tag": "ABX9TyNI7/W/CsyP16uBqj1gxRmV",
      "include_colab_link": true
    },
    "kernelspec": {
      "name": "python3",
      "display_name": "Python 3"
    },
    "language_info": {
      "name": "python"
    }
  },
  "cells": [
    {
      "cell_type": "markdown",
      "metadata": {
        "id": "view-in-github",
        "colab_type": "text"
      },
      "source": [
        "<a href=\"https://colab.research.google.com/github/luvnz/ISYS5002_2023_s2/blob/main/01_02_Omlet_Algorithm.ipynb\" target=\"_parent\"><img src=\"https://colab.research.google.com/assets/colab-badge.svg\" alt=\"Open In Colab\"/></a>"
      ]
    },
    {
      "cell_type": "markdown",
      "source": [],
      "metadata": {
        "id": "N_bd9BxooglA"
      }
    },
    {
      "cell_type": "markdown",
      "source": [
        "# **Step1:** Heat saute pan"
      ],
      "metadata": {
        "id": "2su2dcatotvn"
      }
    }
  ]
}