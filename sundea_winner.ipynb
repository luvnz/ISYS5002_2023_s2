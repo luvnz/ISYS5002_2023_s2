{
  "nbformat": 4,
  "nbformat_minor": 0,
  "metadata": {
    "colab": {
      "provenance": [],
      "authorship_tag": "ABX9TyMkeqBiXwW/PjNZKoS+Bh4k",
      "include_colab_link": true
    },
    "kernelspec": {
      "name": "python3",
      "display_name": "Python 3"
    },
    "language_info": {
      "name": "python"
    }
  },
  "cells": [
    {
      "cell_type": "markdown",
      "metadata": {
        "id": "view-in-github",
        "colab_type": "text"
      },
      "source": [
        "<a href=\"https://colab.research.google.com/github/luvnz/ISYS5002_2023_s2/blob/main/sundea_winner.ipynb\" target=\"_parent\"><img src=\"https://colab.research.google.com/assets/colab-badge.svg\" alt=\"Open In Colab\"/></a>"
      ]
    },
    {
      "cell_type": "markdown",
      "source": [
        "**Sundea_winner**"
      ],
      "metadata": {
        "id": "Iob2N62DsAtA"
      }
    },
    {
      "cell_type": "code",
      "source": [
        "customers = ['Jimmy', 'Kim', 'John', 'Stacie']"
      ],
      "metadata": {
        "id": "K0MFWordsC9j"
      },
      "execution_count": null,
      "outputs": []
    },
    {
      "cell_type": "markdown",
      "source": [
        "Make a list of customers"
      ],
      "metadata": {
        "id": "_0m_lCmJsb1r"
      }
    },
    {
      "cell_type": "code",
      "source": [
        "import random\n",
        "winner = random.choice(customers)"
      ],
      "metadata": {
        "id": "CT4ML8AasC_9"
      },
      "execution_count": null,
      "outputs": []
    },
    {
      "cell_type": "markdown",
      "source": [
        "Chosse one of customers randomly"
      ],
      "metadata": {
        "id": "_khMJmDMstbl"
      }
    },
    {
      "cell_type": "code",
      "source": [
        "flavor = 'vanilla'"
      ],
      "metadata": {
        "id": "giCKlVPssn_z"
      },
      "execution_count": null,
      "outputs": []
    },
    {
      "cell_type": "markdown",
      "source": [
        "Change flavor to vanilla"
      ],
      "metadata": {
        "id": "SiDZkAGWvov-"
      }
    },
    {
      "cell_type": "code",
      "source": [
        "print('Congratulations ' + winner +\n",
        " ' you have won an ice cream sundae!')"
      ],
      "metadata": {
        "colab": {
          "base_uri": "https://localhost:8080/"
        },
        "id": "JDtSwYsVsoBx",
        "outputId": "bb028027-e36a-4570-c900-2bc094cf9aef"
      },
      "execution_count": null,
      "outputs": [
        {
          "output_type": "stream",
          "name": "stdout",
          "text": [
            "Congratulations Kim you have won an ice cream sundae!\n"
          ]
        }
      ]
    },
    {
      "cell_type": "markdown",
      "source": [
        "Sent a message to the winner wo got the ice cream"
      ],
      "metadata": {
        "id": "Nhc3JKXr0_kh"
      }
    },
    {
      "cell_type": "code",
      "source": [
        "prompt = 'Would you like a cherry on top? '"
      ],
      "metadata": {
        "id": "WjKhUWEBsoEK"
      },
      "execution_count": null,
      "outputs": []
    },
    {
      "cell_type": "markdown",
      "source": [
        "Cherry on the top is the precondition of the order command."
      ],
      "metadata": {
        "id": "DmIo7Z4G1ABw"
      }
    },
    {
      "cell_type": "code",
      "source": [
        "wants_cherry = input(prompt)"
      ],
      "metadata": {
        "colab": {
          "base_uri": "https://localhost:8080/"
        },
        "id": "QT6jsvEAt6Sf",
        "outputId": "9982511c-701c-456e-a408-4f9cb3847b7b"
      },
      "execution_count": null,
      "outputs": [
        {
          "name": "stdout",
          "output_type": "stream",
          "text": [
            "Would you like a cherry on top? yes\n"
          ]
        }
      ]
    },
    {
      "cell_type": "markdown",
      "source": [
        "Tell customers a question"
      ],
      "metadata": {
        "id": "fjFE7mpS1Ycy"
      }
    },
    {
      "cell_type": "code",
      "source": [
        "order = flavor + ' sundae '"
      ],
      "metadata": {
        "id": "EUWQa18At6WX"
      },
      "execution_count": null,
      "outputs": []
    },
    {
      "cell_type": "markdown",
      "source": [
        "What an order consists of"
      ],
      "metadata": {
        "id": "G1kht54F1gSz"
      }
    },
    {
      "cell_type": "code",
      "source": [
        "if (wants_cherry == 'yes'):\n",
        " order = order + ' with a cherry on top'\n"
      ],
      "metadata": {
        "id": "TDwQkjnfvMbr"
      },
      "execution_count": null,
      "outputs": []
    },
    {
      "cell_type": "markdown",
      "source": [
        "If users input 'yes',the program will be oprated"
      ],
      "metadata": {
        "id": "1RE6PIAJ11BY"
      }
    },
    {
      "cell_type": "code",
      "source": [
        "print('One ' + order + ' for ' + winner +\n",
        " ' coming right up...')"
      ],
      "metadata": {
        "colab": {
          "base_uri": "https://localhost:8080/"
        },
        "id": "K2r41F-bvMeA",
        "outputId": "27cc18b7-ac83-4a59-999d-d1f1a59e2e2b"
      },
      "execution_count": null,
      "outputs": [
        {
          "output_type": "stream",
          "name": "stdout",
          "text": [
            "One vanilla sundae  for John coming right up...\n"
          ]
        }
      ]
    },
    {
      "cell_type": "markdown",
      "source": [
        "Successful output"
      ],
      "metadata": {
        "id": "2i-rWDDb2_N6"
      }
    }
  ]
}